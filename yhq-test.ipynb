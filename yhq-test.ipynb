{
 "cells": [
  {
   "cell_type": "code",
   "execution_count": null,
   "metadata": {
    "collapsed": true
   },
   "outputs": [],
   "source": [
    "#功能分工：\n",
    "#特征工程：谢栓虎、李博\n",
    "#模型解释：张彬彬\n",
    "#模型结果：张官喜"
   ]
  },
  {
   "cell_type": "code",
   "execution_count": 5,
   "metadata": {
    "collapsed": true
   },
   "outputs": [],
   "source": [
    "#特征工程\n",
    "import numpy as np\n",
    "import pandas as pd"
   ]
  },
  {
   "cell_type": "code",
   "execution_count": 5,
   "metadata": {
    "collapsed": true
   },
   "outputs": [],
   "source": [
    "# 加载数据\n",
    "# train_01 = pd.read_csv('E:/02Work/AI/12DAY09-180512-自由讨论/数据集/train01.csv')\n",
    "train_02 =pd.read_csv('train02.csv', header=0)"
   ]
  },
  {
   "cell_type": "code",
   "execution_count": 3,
   "metadata": {
    "collapsed": false
   },
   "outputs": [],
   "source": [
    "# train_01.shape"
   ]
  },
  {
   "cell_type": "code",
   "execution_count": 6,
   "metadata": {
    "collapsed": false
   },
   "outputs": [
    {
     "data": {
      "text/html": [
       "<div>\n",
       "<table border=\"1\" class=\"dataframe\">\n",
       "  <thead>\n",
       "    <tr style=\"text-align: right;\">\n",
       "      <th></th>\n",
       "      <th>user_id</th>\n",
       "      <th>discount_rate</th>\n",
       "      <th>distance</th>\n",
       "      <th>day_of_month</th>\n",
       "      <th>days_distance</th>\n",
       "      <th>discount_man</th>\n",
       "      <th>discount_jian</th>\n",
       "      <th>is_man_jian</th>\n",
       "      <th>total_sales</th>\n",
       "      <th>sales_use_coupon</th>\n",
       "      <th>...</th>\n",
       "      <th>day_gap_after</th>\n",
       "      <th>is_weekend</th>\n",
       "      <th>weekday1</th>\n",
       "      <th>weekday2</th>\n",
       "      <th>weekday3</th>\n",
       "      <th>weekday4</th>\n",
       "      <th>weekday5</th>\n",
       "      <th>weekday6</th>\n",
       "      <th>weekday7</th>\n",
       "      <th>label</th>\n",
       "    </tr>\n",
       "  </thead>\n",
       "  <tbody>\n",
       "    <tr>\n",
       "      <th>0</th>\n",
       "      <td>1439408</td>\n",
       "      <td>0.866667</td>\n",
       "      <td>1.0</td>\n",
       "      <td>28</td>\n",
       "      <td>14</td>\n",
       "      <td>150.0</td>\n",
       "      <td>20.0</td>\n",
       "      <td>1</td>\n",
       "      <td>63.0</td>\n",
       "      <td>5.0</td>\n",
       "      <td>...</td>\n",
       "      <td>-1</td>\n",
       "      <td>1</td>\n",
       "      <td>0</td>\n",
       "      <td>0</td>\n",
       "      <td>0</td>\n",
       "      <td>0</td>\n",
       "      <td>0</td>\n",
       "      <td>1</td>\n",
       "      <td>0</td>\n",
       "      <td>0</td>\n",
       "    </tr>\n",
       "    <tr>\n",
       "      <th>1</th>\n",
       "      <td>1439408</td>\n",
       "      <td>0.866667</td>\n",
       "      <td>1.0</td>\n",
       "      <td>28</td>\n",
       "      <td>14</td>\n",
       "      <td>150.0</td>\n",
       "      <td>20.0</td>\n",
       "      <td>1</td>\n",
       "      <td>594.0</td>\n",
       "      <td>21.0</td>\n",
       "      <td>...</td>\n",
       "      <td>-1</td>\n",
       "      <td>1</td>\n",
       "      <td>0</td>\n",
       "      <td>0</td>\n",
       "      <td>0</td>\n",
       "      <td>0</td>\n",
       "      <td>0</td>\n",
       "      <td>1</td>\n",
       "      <td>0</td>\n",
       "      <td>0</td>\n",
       "    </tr>\n",
       "    <tr>\n",
       "      <th>2</th>\n",
       "      <td>1439408</td>\n",
       "      <td>0.950000</td>\n",
       "      <td>0.0</td>\n",
       "      <td>13</td>\n",
       "      <td>30</td>\n",
       "      <td>20.0</td>\n",
       "      <td>1.0</td>\n",
       "      <td>1</td>\n",
       "      <td>1.0</td>\n",
       "      <td>0.0</td>\n",
       "      <td>...</td>\n",
       "      <td>-1</td>\n",
       "      <td>0</td>\n",
       "      <td>1</td>\n",
       "      <td>0</td>\n",
       "      <td>0</td>\n",
       "      <td>0</td>\n",
       "      <td>0</td>\n",
       "      <td>0</td>\n",
       "      <td>0</td>\n",
       "      <td>0</td>\n",
       "    </tr>\n",
       "    <tr>\n",
       "      <th>3</th>\n",
       "      <td>1439408</td>\n",
       "      <td>0.950000</td>\n",
       "      <td>0.0</td>\n",
       "      <td>13</td>\n",
       "      <td>30</td>\n",
       "      <td>20.0</td>\n",
       "      <td>1.0</td>\n",
       "      <td>1</td>\n",
       "      <td>13.0</td>\n",
       "      <td>3.0</td>\n",
       "      <td>...</td>\n",
       "      <td>-1</td>\n",
       "      <td>0</td>\n",
       "      <td>1</td>\n",
       "      <td>0</td>\n",
       "      <td>0</td>\n",
       "      <td>0</td>\n",
       "      <td>0</td>\n",
       "      <td>0</td>\n",
       "      <td>0</td>\n",
       "      <td>0</td>\n",
       "    </tr>\n",
       "    <tr>\n",
       "      <th>4</th>\n",
       "      <td>1439408</td>\n",
       "      <td>0.950000</td>\n",
       "      <td>0.0</td>\n",
       "      <td>16</td>\n",
       "      <td>2</td>\n",
       "      <td>20.0</td>\n",
       "      <td>1.0</td>\n",
       "      <td>1</td>\n",
       "      <td>1.0</td>\n",
       "      <td>0.0</td>\n",
       "      <td>...</td>\n",
       "      <td>28</td>\n",
       "      <td>0</td>\n",
       "      <td>1</td>\n",
       "      <td>0</td>\n",
       "      <td>0</td>\n",
       "      <td>0</td>\n",
       "      <td>0</td>\n",
       "      <td>0</td>\n",
       "      <td>0</td>\n",
       "      <td>-1</td>\n",
       "    </tr>\n",
       "    <tr>\n",
       "      <th>5</th>\n",
       "      <td>1439408</td>\n",
       "      <td>0.950000</td>\n",
       "      <td>0.0</td>\n",
       "      <td>16</td>\n",
       "      <td>2</td>\n",
       "      <td>20.0</td>\n",
       "      <td>1.0</td>\n",
       "      <td>1</td>\n",
       "      <td>13.0</td>\n",
       "      <td>3.0</td>\n",
       "      <td>...</td>\n",
       "      <td>28</td>\n",
       "      <td>0</td>\n",
       "      <td>1</td>\n",
       "      <td>0</td>\n",
       "      <td>0</td>\n",
       "      <td>0</td>\n",
       "      <td>0</td>\n",
       "      <td>0</td>\n",
       "      <td>0</td>\n",
       "      <td>-1</td>\n",
       "    </tr>\n",
       "    <tr>\n",
       "      <th>6</th>\n",
       "      <td>2029232</td>\n",
       "      <td>0.833333</td>\n",
       "      <td>0.0</td>\n",
       "      <td>30</td>\n",
       "      <td>16</td>\n",
       "      <td>30.0</td>\n",
       "      <td>5.0</td>\n",
       "      <td>1</td>\n",
       "      <td>366.0</td>\n",
       "      <td>44.0</td>\n",
       "      <td>...</td>\n",
       "      <td>-1</td>\n",
       "      <td>0</td>\n",
       "      <td>1</td>\n",
       "      <td>0</td>\n",
       "      <td>0</td>\n",
       "      <td>0</td>\n",
       "      <td>0</td>\n",
       "      <td>0</td>\n",
       "      <td>0</td>\n",
       "      <td>0</td>\n",
       "    </tr>\n",
       "    <tr>\n",
       "      <th>7</th>\n",
       "      <td>2029232</td>\n",
       "      <td>0.833333</td>\n",
       "      <td>0.0</td>\n",
       "      <td>30</td>\n",
       "      <td>16</td>\n",
       "      <td>30.0</td>\n",
       "      <td>5.0</td>\n",
       "      <td>1</td>\n",
       "      <td>5941.0</td>\n",
       "      <td>599.0</td>\n",
       "      <td>...</td>\n",
       "      <td>-1</td>\n",
       "      <td>0</td>\n",
       "      <td>1</td>\n",
       "      <td>0</td>\n",
       "      <td>0</td>\n",
       "      <td>0</td>\n",
       "      <td>0</td>\n",
       "      <td>0</td>\n",
       "      <td>0</td>\n",
       "      <td>0</td>\n",
       "    </tr>\n",
       "    <tr>\n",
       "      <th>8</th>\n",
       "      <td>2029232</td>\n",
       "      <td>0.950000</td>\n",
       "      <td>0.0</td>\n",
       "      <td>19</td>\n",
       "      <td>5</td>\n",
       "      <td>20.0</td>\n",
       "      <td>1.0</td>\n",
       "      <td>1</td>\n",
       "      <td>5.0</td>\n",
       "      <td>0.0</td>\n",
       "      <td>...</td>\n",
       "      <td>-1</td>\n",
       "      <td>0</td>\n",
       "      <td>0</td>\n",
       "      <td>0</td>\n",
       "      <td>0</td>\n",
       "      <td>1</td>\n",
       "      <td>0</td>\n",
       "      <td>0</td>\n",
       "      <td>0</td>\n",
       "      <td>0</td>\n",
       "    </tr>\n",
       "    <tr>\n",
       "      <th>9</th>\n",
       "      <td>2747744</td>\n",
       "      <td>0.800000</td>\n",
       "      <td>NaN</td>\n",
       "      <td>6</td>\n",
       "      <td>23</td>\n",
       "      <td>50.0</td>\n",
       "      <td>10.0</td>\n",
       "      <td>1</td>\n",
       "      <td>551.0</td>\n",
       "      <td>36.0</td>\n",
       "      <td>...</td>\n",
       "      <td>-1</td>\n",
       "      <td>0</td>\n",
       "      <td>1</td>\n",
       "      <td>0</td>\n",
       "      <td>0</td>\n",
       "      <td>0</td>\n",
       "      <td>0</td>\n",
       "      <td>0</td>\n",
       "      <td>0</td>\n",
       "      <td>0</td>\n",
       "    </tr>\n",
       "  </tbody>\n",
       "</table>\n",
       "<p>10 rows × 56 columns</p>\n",
       "</div>"
      ],
      "text/plain": [
       "   user_id  discount_rate  distance  day_of_month  days_distance  \\\n",
       "0  1439408       0.866667       1.0            28             14   \n",
       "1  1439408       0.866667       1.0            28             14   \n",
       "2  1439408       0.950000       0.0            13             30   \n",
       "3  1439408       0.950000       0.0            13             30   \n",
       "4  1439408       0.950000       0.0            16              2   \n",
       "5  1439408       0.950000       0.0            16              2   \n",
       "6  2029232       0.833333       0.0            30             16   \n",
       "7  2029232       0.833333       0.0            30             16   \n",
       "8  2029232       0.950000       0.0            19              5   \n",
       "9  2747744       0.800000       NaN             6             23   \n",
       "\n",
       "   discount_man  discount_jian  is_man_jian  total_sales  sales_use_coupon  \\\n",
       "0         150.0           20.0            1         63.0               5.0   \n",
       "1         150.0           20.0            1        594.0              21.0   \n",
       "2          20.0            1.0            1          1.0               0.0   \n",
       "3          20.0            1.0            1         13.0               3.0   \n",
       "4          20.0            1.0            1          1.0               0.0   \n",
       "5          20.0            1.0            1         13.0               3.0   \n",
       "6          30.0            5.0            1        366.0              44.0   \n",
       "7          30.0            5.0            1       5941.0             599.0   \n",
       "8          20.0            1.0            1          5.0               0.0   \n",
       "9          50.0           10.0            1        551.0              36.0   \n",
       "\n",
       "   ...    day_gap_after  is_weekend  weekday1  weekday2  weekday3  weekday4  \\\n",
       "0  ...               -1           1         0         0         0         0   \n",
       "1  ...               -1           1         0         0         0         0   \n",
       "2  ...               -1           0         1         0         0         0   \n",
       "3  ...               -1           0         1         0         0         0   \n",
       "4  ...               28           0         1         0         0         0   \n",
       "5  ...               28           0         1         0         0         0   \n",
       "6  ...               -1           0         1         0         0         0   \n",
       "7  ...               -1           0         1         0         0         0   \n",
       "8  ...               -1           0         0         0         0         1   \n",
       "9  ...               -1           0         1         0         0         0   \n",
       "\n",
       "   weekday5  weekday6  weekday7  label  \n",
       "0         0         1         0      0  \n",
       "1         0         1         0      0  \n",
       "2         0         0         0      0  \n",
       "3         0         0         0      0  \n",
       "4         0         0         0     -1  \n",
       "5         0         0         0     -1  \n",
       "6         0         0         0      0  \n",
       "7         0         0         0      0  \n",
       "8         0         0         0      0  \n",
       "9         0         0         0      0  \n",
       "\n",
       "[10 rows x 56 columns]"
      ]
     },
     "execution_count": 6,
     "metadata": {},
     "output_type": "execute_result"
    }
   ],
   "source": [
    "# 查看数据\n",
    "train_02.head(10)"
   ]
  },
  {
   "cell_type": "code",
   "execution_count": null,
   "metadata": {
    "collapsed": false
   },
   "outputs": [],
   "source": [
    "train_02.shape"
   ]
  },
  {
   "cell_type": "code",
   "execution_count": 6,
   "metadata": {
    "collapsed": false
   },
   "outputs": [
    {
     "name": "stdout",
     "output_type": "stream",
     "text": [
      "<class 'pandas.core.frame.DataFrame'>\n",
      "RangeIndex: 255225 entries, 0 to 255224\n",
      "Data columns (total 56 columns):\n",
      "user_id                                         255225 non-null int64\n",
      "discount_rate                                   255225 non-null float64\n",
      "distance                                        228623 non-null float64\n",
      "day_of_month                                    255225 non-null int64\n",
      "days_distance                                   255225 non-null int64\n",
      "discount_man                                    247356 non-null float64\n",
      "discount_jian                                   247356 non-null float64\n",
      "is_man_jian                                     255225 non-null int64\n",
      "total_sales                                     250077 non-null float64\n",
      "sales_use_coupon                                251599 non-null float64\n",
      "total_coupon                                    251599 non-null float64\n",
      "merchant_min_distance                           193677 non-null float64\n",
      "merchant_max_distance                           193677 non-null float64\n",
      "merchant_mean_distance                          193677 non-null float64\n",
      "merchant_median_distance                        193677 non-null float64\n",
      "merchant_coupon_transfer_rate                   216615 non-null float64\n",
      "coupon_rate                                     250077 non-null float64\n",
      "count_merchant                                  134766 non-null float64\n",
      "user_min_distance                               14974 non-null float64\n",
      "user_max_distance                               14974 non-null float64\n",
      "user_mean_distance                              14974 non-null float64\n",
      "user_median_distance                            14974 non-null float64\n",
      "buy_use_coupon                                  134766 non-null float64\n",
      "buy_total                                       134766 non-null float64\n",
      "coupon_received                                 134766 non-null float64\n",
      "avg_user_date_datereceived_gap                  16187 non-null float64\n",
      "min_user_date_datereceived_gap                  16187 non-null float64\n",
      "max_user_date_datereceived_gap                  16187 non-null float64\n",
      "buy_use_coupon_rate                             99643 non-null float64\n",
      "user_coupon_transfer_rate                       98346 non-null float64\n",
      "user_merchant_buy_total                         255225 non-null float64\n",
      "user_merchant_received                          255225 non-null float64\n",
      "user_merchant_buy_use_coupon                    75584 non-null float64\n",
      "user_merchant_any                               255225 non-null float64\n",
      "user_merchant_buy_common                        75584 non-null float64\n",
      "user_merchant_coupon_transfer_rate              30751 non-null float64\n",
      "user_merchant_coupon_buy_rate                   64842 non-null float64\n",
      "user_merchant_rate                              64842 non-null float64\n",
      "user_merchant_common_buy_rate                   64842 non-null float64\n",
      "this_month_user_receive_same_coupon_count       255225 non-null int64\n",
      "this_month_user_receive_all_coupon_count        255225 non-null int64\n",
      "this_month_user_receive_same_coupon_lastone     255225 non-null int64\n",
      "this_month_user_receive_same_coupon_firstone    255225 non-null int64\n",
      "this_day_user_receive_all_coupon_count          255225 non-null int64\n",
      "this_day_user_receive_same_coupon_count         255225 non-null int64\n",
      "day_gap_before                                  255225 non-null int64\n",
      "day_gap_after                                   255225 non-null int64\n",
      "is_weekend                                      255225 non-null int64\n",
      "weekday1                                        255225 non-null int64\n",
      "weekday2                                        255225 non-null int64\n",
      "weekday3                                        255225 non-null int64\n",
      "weekday4                                        255225 non-null int64\n",
      "weekday5                                        255225 non-null int64\n",
      "weekday6                                        255225 non-null int64\n",
      "weekday7                                        255225 non-null int64\n",
      "label                                           255225 non-null int64\n",
      "dtypes: float64(35), int64(21)\n",
      "memory usage: 109.0 MB\n"
     ]
    }
   ],
   "source": [
    "train_02.info()"
   ]
  },
  {
   "cell_type": "code",
   "execution_count": 10,
   "metadata": {
    "collapsed": false
   },
   "outputs": [
    {
     "data": {
      "text/plain": [
       "(486936, 55)"
      ]
     },
     "execution_count": 10,
     "metadata": {},
     "output_type": "execute_result"
    }
   ],
   "source": [
    "# train_02.describe\n",
    "# 去除user_id \n",
    "train_02.drop(['user_id'],axis=1,inplace=True)\n",
    "# 去除标签中 -1的数据，会给后边处理造成问题，并且-1数量为3336，占比例较小\n",
    "train_02.label[train_02.label == -1].value_counts()\n",
    "train_02 = train_02[train_02.label > -1]\n",
    "train_02.shape"
   ]
  },
  {
   "cell_type": "code",
   "execution_count": 10,
   "metadata": {
    "collapsed": true
   },
   "outputs": [],
   "source": [
    "from sklearn import preprocessing\n",
    "from sklearn import feature_selection"
   ]
  },
  {
   "cell_type": "code",
   "execution_count": 11,
   "metadata": {
    "collapsed": false
   },
   "outputs": [],
   "source": [
    "# 缺失值计算(也可用pandas.fillna函数)\n",
    "imp = preprocessing.Imputer(missing_values='NaN', strategy='mean', axis=0)\n",
    "train_02_new = imp.fit_transform(train_02)\n",
    "# train_02 = pd.DataFrame(train_02_new)"
   ]
  },
  {
   "cell_type": "code",
   "execution_count": 12,
   "metadata": {
    "collapsed": false
   },
   "outputs": [],
   "source": [
    "train_02_data = train_02_new[:,:-1]\n",
    "train_02_label = train_02_new[:,-1:]"
   ]
  },
  {
   "cell_type": "code",
   "execution_count": 13,
   "metadata": {
    "collapsed": true
   },
   "outputs": [],
   "source": [
    "# 特征选择，使用GBDT\n",
    "from sklearn.feature_selection import SelectFromModel\n",
    "from sklearn.ensemble import GradientBoostingClassifier "
   ]
  },
  {
   "cell_type": "code",
   "execution_count": 14,
   "metadata": {
    "collapsed": false
   },
   "outputs": [
    {
     "name": "stderr",
     "output_type": "stream",
     "text": [
      "C:\\Program Files\\Anaconda3\\lib\\site-packages\\sklearn\\utils\\validation.py:578: DataConversionWarning: A column-vector y was passed when a 1d array was expected. Please change the shape of y to (n_samples, ), for example using ravel().\n",
      "  y = column_or_1d(y, warn=True)\n"
     ]
    },
    {
     "name": "stdout",
     "output_type": "stream",
     "text": [
      "[[   0.9          16.          200.         ...,   -1.           -1.           -1.        ]\n",
      " [   0.9          16.          200.         ...,   -1.           -1.           -1.        ]\n",
      " [   0.85          8.          200.         ...,   -1.           -1.           -1.        ]\n",
      " ..., \n",
      " [   0.96666667    2.           30.         ...,   -1.           -1.           -1.        ]\n",
      " [   0.96666667    2.           30.         ...,   -1.           -1.           -1.        ]\n",
      " [   0.96666667   21.           30.         ...,    1.           -1.            4.        ]]\n",
      "[ 0.05000658  0.01465191  0.00376031  0.03332671  0.0580061   0.00414042\n",
      "  0.02169008  0.02133783  0.01015558  0.00566857  0.01414039  0.00777258\n",
      "  0.0318885   0.          0.05904908  0.0241606   0.00260791  0.          0.\n",
      "  0.          0.          0.01060661  0.02383722  0.          0.00400762\n",
      "  0.00041497  0.01207875  0.01779926  0.00761597  0.03944514  0.03165292\n",
      "  0.00208581  0.02744033  0.01668677  0.03028724  0.00660357  0.02400281\n",
      "  0.01587162  0.07190543  0.07313231  0.01682512  0.05859096  0.00279908\n",
      "  0.00605451  0.02980045  0.09671787  0.          0.          0.\n",
      "  0.00036551  0.01100901  0.          0.          0.        ]\n"
     ]
    }
   ],
   "source": [
    "selector = SelectFromModel(GradientBoostingClassifier()).fit(train_02_data, train_02_label)\n",
    "data = selector.transform(train_02_data)\n",
    "print(data)\n",
    "print(selector.estimator_.feature_importances_)"
   ]
  },
  {
   "cell_type": "code",
   "execution_count": 15,
   "metadata": {
    "collapsed": false
   },
   "outputs": [
    {
     "data": {
      "text/plain": [
       "(251889, 19)"
      ]
     },
     "execution_count": 15,
     "metadata": {},
     "output_type": "execute_result"
    }
   ],
   "source": [
    "data.shape"
   ]
  },
  {
   "cell_type": "code",
   "execution_count": 25,
   "metadata": {
    "collapsed": false
   },
   "outputs": [
    {
     "data": {
      "text/plain": [
       "Index(['discount_rate', 'distance', 'day_of_month', 'days_distance',\n",
       "       'discount_man', 'discount_jian', 'is_man_jian', 'total_sales',\n",
       "       'sales_use_coupon', 'total_coupon', 'merchant_min_distance',\n",
       "       'merchant_max_distance', 'merchant_mean_distance',\n",
       "       'merchant_median_distance', 'merchant_coupon_transfer_rate',\n",
       "       'coupon_rate', 'count_merchant', 'user_min_distance',\n",
       "       'user_max_distance', 'user_mean_distance', 'user_median_distance',\n",
       "       'buy_use_coupon', 'buy_total', 'coupon_received',\n",
       "       'avg_user_date_datereceived_gap', 'min_user_date_datereceived_gap',\n",
       "       'max_user_date_datereceived_gap', 'buy_use_coupon_rate',\n",
       "       'user_coupon_transfer_rate', 'user_merchant_buy_total',\n",
       "       'user_merchant_received', 'user_merchant_buy_use_coupon',\n",
       "       'user_merchant_any', 'user_merchant_buy_common',\n",
       "       'user_merchant_coupon_transfer_rate', 'user_merchant_coupon_buy_rate',\n",
       "       'user_merchant_rate', 'user_merchant_common_buy_rate',\n",
       "       'this_month_user_receive_same_coupon_count',\n",
       "       'this_month_user_receive_all_coupon_count',\n",
       "       'this_month_user_receive_same_coupon_lastone',\n",
       "       'this_month_user_receive_same_coupon_firstone',\n",
       "       'this_day_user_receive_all_coupon_count',\n",
       "       'this_day_user_receive_same_coupon_count', 'day_gap_before',\n",
       "       'day_gap_after', 'is_weekend', 'weekday1', 'weekday2', 'weekday3',\n",
       "       'weekday4', 'weekday5', 'weekday6', 'weekday7', 'label'],\n",
       "      dtype='object')"
      ]
     },
     "execution_count": 25,
     "metadata": {},
     "output_type": "execute_result"
    }
   ],
   "source": [
    "train_02.columns"
   ]
  },
  {
   "cell_type": "code",
   "execution_count": 34,
   "metadata": {
    "collapsed": false
   },
   "outputs": [],
   "source": [
    "features = {}\n",
    "for idx,col in enumerate(selector.estimator_.feature_importances_):\n",
    "    features[train_02.columns[idx]] = col"
   ]
  },
  {
   "cell_type": "code",
   "execution_count": 38,
   "metadata": {
    "collapsed": false
   },
   "outputs": [
    {
     "name": "stdout",
     "output_type": "stream",
     "text": [
      "{'total_sales': 0.021337831566085888, 'day_gap_before': 0.029800445403043729, 'day_of_month': 0.00376031031780909, 'user_coupon_transfer_rate': 0.0076159658867916398, 'user_median_distance': 0.0, 'weekday2': 0.0, 'user_merchant_common_buy_rate': 0.015871615063068646, 'weekday6': 0.0, 'merchant_mean_distance': 0.031888496179852607, 'buy_total': 0.023837221011506524, 'this_day_user_receive_same_coupon_count': 0.0060545055342317621, 'total_coupon': 0.0056685737910950893, 'merchant_max_distance': 0.0077725798867157424, 'coupon_rate': 0.024160599432051538, 'merchant_min_distance': 0.014140388639626916, 'weekday4': 0.011009013978989656, 'distance': 0.014651909985278801, 'user_max_distance': 0.0, 'discount_rate': 0.050006578382151251, 'weekday5': 0.0, 'this_month_user_receive_same_coupon_lastone': 0.016825118539721514, 'buy_use_coupon_rate': 0.017799256923501244, 'days_distance': 0.033326713436473379, 'this_day_user_receive_all_coupon_count': 0.0027990817831094802, 'avg_user_date_datereceived_gap': 0.0040076221072483558, 'user_merchant_rate': 0.024002806420404151, 'weekday1': 0.0, 'discount_jian': 0.0041404168991677195, 'user_merchant_coupon_transfer_rate': 0.03028724088863485, 'weekday3': 0.00036551137272462027, 'sales_use_coupon': 0.010155580298906078, 'min_user_date_datereceived_gap': 0.00041497461570457752, 'this_month_user_receive_same_coupon_firstone': 0.058590962936327887, 'user_merchant_buy_total': 0.039445144948616992, 'count_merchant': 0.0026079096092790238, 'weekday7': 0.0, 'discount_man': 0.058006095923711552, 'is_weekend': 0.0, 'user_merchant_buy_use_coupon': 0.0020858086984596002, 'merchant_coupon_transfer_rate': 0.059049075013072633, 'coupon_received': 0.0, 'day_gap_after': 0.096717873028341311, 'user_merchant_any': 0.027440326697185453, 'user_merchant_buy_common': 0.016686773966436211, 'user_merchant_coupon_buy_rate': 0.0066035653012397402, 'user_min_distance': 0.0, 'user_merchant_received': 0.031652915972068964, 'buy_use_coupon': 0.01060661458228963, 'is_man_jian': 0.021690084024321547, 'this_month_user_receive_all_coupon_count': 0.073132307366944233, 'max_user_date_datereceived_gap': 0.012078752568954989, 'user_mean_distance': 0.0, 'merchant_median_distance': 0.0, 'this_month_user_receive_same_coupon_count': 0.071905431018855395}\n"
     ]
    }
   ],
   "source": [
    "print(features)"
   ]
  },
  {
   "cell_type": "code",
   "execution_count": null,
   "metadata": {
    "collapsed": false
   },
   "outputs": [],
   "source": []
  },
  {
   "cell_type": "code",
   "execution_count": 1,
   "metadata": {
    "collapsed": false
   },
   "outputs": [
    {
     "name": "stdout",
     "output_type": "stream",
     "text": [
      "train01\n",
      "<class 'pandas.core.frame.DataFrame'>\n",
      "Int64Index: 486936 entries, 0 to 492695\n",
      "Data columns (total 20 columns):\n",
      "day_gap_after                                   486936 non-null float64\n",
      "this_month_user_receive_all_coupon_count        486936 non-null float64\n",
      "this_month_user_receive_same_coupon_count       486936 non-null float64\n",
      "merchant_coupon_transfer_rate                   486936 non-null float64\n",
      "this_month_user_receive_same_coupon_firstone    486936 non-null float64\n",
      "discount_man                                    486936 non-null float64\n",
      "discount_rate                                   486936 non-null float64\n",
      "user_merchant_buy_total                         486936 non-null float64\n",
      "days_distance                                   486936 non-null float64\n",
      "merchant_mean_distance                          486936 non-null float64\n",
      "user_merchant_received                          486936 non-null float64\n",
      "user_merchant_coupon_transfer_rate              486936 non-null float64\n",
      "day_gap_before                                  486936 non-null float64\n",
      "user_merchant_any                               486936 non-null float64\n",
      "coupon_rate                                     486936 non-null float64\n",
      "user_merchant_rate                              486936 non-null float64\n",
      "buy_total                                       486936 non-null float64\n",
      "is_man_jian                                     486936 non-null float64\n",
      "total_sales                                     486936 non-null float64\n",
      "label                                           486936 non-null float64\n",
      "dtypes: float64(20)\n",
      "memory usage: 78.0 MB\n",
      "None\n",
      "train02\n",
      "<class 'pandas.core.frame.DataFrame'>\n",
      "Int64Index: 251889 entries, 0 to 255223\n",
      "Data columns (total 20 columns):\n",
      "day_gap_after                                   251889 non-null float64\n",
      "this_month_user_receive_all_coupon_count        251889 non-null float64\n",
      "this_month_user_receive_same_coupon_count       251889 non-null float64\n",
      "merchant_coupon_transfer_rate                   251889 non-null float64\n",
      "this_month_user_receive_same_coupon_firstone    251889 non-null float64\n",
      "discount_man                                    251889 non-null float64\n",
      "discount_rate                                   251889 non-null float64\n",
      "user_merchant_buy_total                         251889 non-null float64\n",
      "days_distance                                   251889 non-null float64\n",
      "merchant_mean_distance                          251889 non-null float64\n",
      "user_merchant_received                          251889 non-null float64\n",
      "user_merchant_coupon_transfer_rate              251889 non-null float64\n",
      "day_gap_before                                  251889 non-null float64\n",
      "user_merchant_any                               251889 non-null float64\n",
      "coupon_rate                                     251889 non-null float64\n",
      "user_merchant_rate                              251889 non-null float64\n",
      "buy_total                                       251889 non-null float64\n",
      "is_man_jian                                     251889 non-null float64\n",
      "total_sales                                     251889 non-null float64\n",
      "label                                           251889 non-null float64\n",
      "dtypes: float64(20)\n",
      "memory usage: 40.4 MB\n",
      "None\n",
      "<class 'pandas.core.frame.DataFrame'>\n",
      "RangeIndex: 738825 entries, 0 to 738824\n",
      "Data columns (total 20 columns):\n",
      "day_gap_after                                   738825 non-null float64\n",
      "this_month_user_receive_all_coupon_count        738825 non-null float64\n",
      "this_month_user_receive_same_coupon_count       738825 non-null float64\n",
      "merchant_coupon_transfer_rate                   738825 non-null float64\n",
      "this_month_user_receive_same_coupon_firstone    738825 non-null float64\n",
      "discount_man                                    738825 non-null float64\n",
      "discount_rate                                   738825 non-null float64\n",
      "user_merchant_buy_total                         738825 non-null float64\n",
      "days_distance                                   738825 non-null float64\n",
      "merchant_mean_distance                          738825 non-null float64\n",
      "user_merchant_received                          738825 non-null float64\n",
      "user_merchant_coupon_transfer_rate              738825 non-null float64\n",
      "day_gap_before                                  738825 non-null float64\n",
      "user_merchant_any                               738825 non-null float64\n",
      "coupon_rate                                     738825 non-null float64\n",
      "user_merchant_rate                              738825 non-null float64\n",
      "buy_total                                       738825 non-null float64\n",
      "is_man_jian                                     738825 non-null float64\n",
      "total_sales                                     738825 non-null float64\n",
      "label                                           738825 non-null float64\n",
      "dtypes: float64(20)\n",
      "memory usage: 112.7 MB\n",
      "None\n"
     ]
    }
   ],
   "source": [
    "import pandas as pd \n",
    "import numpy as np \n",
    "import matplotlib.pyplot as plt\n",
    "from numpy import vstack, array, nan\n",
    "from sklearn.datasets import load_iris\n",
    "from sklearn import preprocessing\n",
    "from sklearn import feature_selection\n",
    "from sklearn.linear_model import LogisticRegression\n",
    "from sklearn.ensemble import GradientBoostingClassifier\n",
    "from sklearn.decomposition import PCA\n",
    "from sklearn.discriminant_analysis import LinearDiscriminantAnalysis as LDA\n",
    "features_new = [ 'day_gap_after','this_month_user_receive_all_coupon_count', 'this_month_user_receive_same_coupon_count', 'merchant_coupon_transfer_rate', \t 'this_month_user_receive_same_coupon_firstone', 'discount_man', \t 'discount_rate','user_merchant_buy_total', 'days_distance',\t 'merchant_mean_distance', 'user_merchant_received', 'user_merchant_coupon_transfer_rate', 'day_gap_before', 'user_merchant_any',  'coupon_rate', 'user_merchant_rate', 'buy_total', 'is_man_jian', 'total_sales', 'label']\n",
    "\n",
    "print(\"train01\")\n",
    "train01_data = pd.read_csv('train01.csv')\n",
    "train01_data_new = train01_data[features_new]\n",
    "train01_data_new_np = train01_data_new.values\n",
    "imp = preprocessing.Imputer(missing_values='NaN', strategy='mean', axis=0)\n",
    "train01_data_new = imp.fit_transform(train01_data_new_np)\n",
    "train01_data_new_df = pd.DataFrame(train01_data_new, columns=features_new)\n",
    "train01_data_new_df_1 = train01_data_new_df[train01_data_new_df.label >-1]\n",
    "train01_data_new_df_1_np = train01_data_new_df_1.values\n",
    "print(train01_data_new_df_1.info())\n",
    "\n",
    "\n",
    "print(\"train02\")\n",
    "train02_data = pd.read_csv('train02.csv')\n",
    "train02_data_new = train02_data[features_new]\n",
    "train02_data_new_np = train02_data_new.values\n",
    "imp = preprocessing.Imputer(missing_values='NaN', strategy='mean', axis=0)\n",
    "train02_data_new = imp.fit_transform(train02_data_new_np)\n",
    "train02_data_new_df = pd.DataFrame(train02_data_new, columns=features_new)\n",
    "train02_data_new_df_2 = train02_data_new_df[train02_data_new_df.label >-1]\n",
    "train02_data_new_df_2_np = train02_data_new_df_2.values\n",
    "print(train02_data_new_df_2.info())\n",
    "\n",
    "train_data_new_np = np.concatenate([train01_data_new_df_1,train02_data_new_df_2],axis = 0)\n",
    "\n",
    "train_data_new_df = pd.DataFrame(train_data_new_np, columns=features_new)\n",
    "print(train_data_new_df.info())\n",
    "train_data_new_df.to_csv(\"processed_data.csv\")\n",
    "\n"
   ]
  },
  {
   "cell_type": "code",
   "execution_count": 12,
   "metadata": {
    "collapsed": false
   },
   "outputs": [
    {
     "name": "stdout",
     "output_type": "stream",
     "text": [
      "             precision    recall  f1-score   support\n",
      "\n",
      "        0.0       0.94      1.00      0.97     23664\n",
      "        1.0       0.75      0.08      0.14      1525\n",
      "\n",
      "avg / total       0.93      0.94      0.92     25189\n",
      "\n"
     ]
    }
   ],
   "source": [
    "# 模型结果\n",
    "import sys\n",
    "import io\n",
    "import numpy as np\n",
    "import matplotlib.pyplot as plt\n",
    "from sklearn.learning_curve import learning_curve\n",
    "from sklearn import linear_model\n",
    "from sklearn.ensemble import RandomForestRegressor\n",
    "import pandas as pd #数据分析\n",
    "from sklearn import linear_model\n",
    "from sklearn.ensemble import RandomForestClassifier\n",
    "\n",
    "train01_data = pd.read_csv('processed_data.csv', header=0)\n",
    "\n",
    "from sklearn import preprocessing\n",
    "\n",
    "#print(\"train01\")\n",
    "features = list(train01_data.columns)\n",
    "\n",
    "imp = preprocessing.Imputer(missing_values='NaN', strategy='mean', axis=0)\n",
    "train01_data_new = imp.fit_transform(train01_data)\n",
    "train01_data_new_df = pd.DataFrame(train01_data_new, columns=features)\n",
    "train01_data_new_df_1 = train01_data_new_df[train01_data_new_df.label >-1]\n",
    "#print(train01_data_new_df_1.info())\n",
    "\n",
    "train_np = train01_data_new_df_1.as_matrix()\n",
    "\n",
    "# y即Survival结果\n",
    "y = train_np[:, -1]\n",
    "# X即特征属性值\n",
    "X = train_np[:, :-1]\n",
    "\n",
    "from sklearn.model_selection import train_test_split\n",
    "X_train, X_test, y_train, y_test = train_test_split(\n",
    "    X,\n",
    "    y,\n",
    "    test_size=0.1,\n",
    "    random_state=42\n",
    ")\n",
    "#print(\"X\")\n",
    "from sklearn.preprocessing import StandardScaler\n",
    "from sklearn.preprocessing import Normalizer\n",
    "from sklearn.feature_selection import SelectFromModel\n",
    "from sklearn.ensemble import GradientBoostingClassifier\n",
    " \n",
    "# (5) 模型构建与训练\n",
    "# clf = linear_model.LogisticRegression(C=100.0, penalty='l1', tol=1e-6)\n",
    "clf = RandomForestClassifier(criterion='gini', max_depth=5, n_estimators=5)\n",
    "\n",
    "from sklearn.metrics import classification_report\n",
    "clf.fit(X_train, y_train)\n",
    "y_pred = clf.predict(X_test)\n",
    "print(classification_report(y_test, y_pred))"
   ]
  },
  {
   "cell_type": "markdown",
   "metadata": {},
   "source": [
    "![png](1.png)"
   ]
  },
  {
   "cell_type": "markdown",
   "metadata": {},
   "source": [
    "![png](2.png)"
   ]
  },
  {
   "cell_type": "markdown",
   "metadata": {},
   "source": [
    "![png](3.png)"
   ]
  },
  {
   "cell_type": "markdown",
   "metadata": {},
   "source": [
    "![png](4.png)"
   ]
  },
  {
   "cell_type": "code",
   "execution_count": null,
   "metadata": {
    "collapsed": true
   },
   "outputs": [],
   "source": []
  }
 ],
 "metadata": {
  "anaconda-cloud": {},
  "kernelspec": {
   "display_name": "Python [default]",
   "language": "python",
   "name": "python3"
  },
  "language_info": {
   "codemirror_mode": {
    "name": "ipython",
    "version": 3
   },
   "file_extension": ".py",
   "mimetype": "text/x-python",
   "name": "python",
   "nbconvert_exporter": "python",
   "pygments_lexer": "ipython3",
   "version": "3.5.2"
  }
 },
 "nbformat": 4,
 "nbformat_minor": 2
}
